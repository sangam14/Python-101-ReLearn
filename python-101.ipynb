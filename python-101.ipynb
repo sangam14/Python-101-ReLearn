{
 "cells": [
  {
   "cell_type": "markdown",
   "metadata": {},
   "source": [
    "Say \"Hello\""
   ]
  },
  {
   "cell_type": "code",
   "execution_count": 14,
   "metadata": {
    "execution": {
     "iopub.execute_input": "2025-09-27T17:34:58.778260Z",
     "iopub.status.busy": "2025-09-27T17:34:58.777308Z",
     "iopub.status.idle": "2025-09-27T17:34:58.787243Z",
     "shell.execute_reply": "2025-09-27T17:34:58.786091Z",
     "shell.execute_reply.started": "2025-09-27T17:34:58.778226Z"
    },
    "trusted": true
   },
   "outputs": [
    {
     "name": "stdout",
     "output_type": "stream",
     "text": [
      "hello world\n"
     ]
    }
   ],
   "source": [
    "print(\"hello world\")"
   ]
  },
  {
   "cell_type": "code",
   "execution_count": 15,
   "metadata": {
    "execution": {
     "iopub.execute_input": "2025-09-27T17:35:40.371213Z",
     "iopub.status.busy": "2025-09-27T17:35:40.370773Z",
     "iopub.status.idle": "2025-09-27T17:35:40.377236Z",
     "shell.execute_reply": "2025-09-27T17:35:40.375891Z",
     "shell.execute_reply.started": "2025-09-27T17:35:40.371187Z"
    },
    "trusted": true
   },
   "outputs": [
    {
     "name": "stdout",
     "output_type": "stream",
     "text": [
      "I'm execited to learn Python!\n"
     ]
    }
   ],
   "source": [
    "print(\"I'm execited to learn Python!\")"
   ]
  },
  {
   "cell_type": "code",
   "execution_count": 16,
   "metadata": {
    "trusted": true
   },
   "outputs": [
    {
     "ename": "SyntaxError",
     "evalue": "invalid syntax (130508364.py, line 7)",
     "output_type": "error",
     "traceback": [
      "\u001b[0;36m  Cell \u001b[0;32mIn[16], line 7\u001b[0;36m\u001b[0m\n\u001b[0;31m    2. What does Python do if you write Print(\"42\") instead of Print(42)?\u001b[0m\n\u001b[0m       ^\u001b[0m\n\u001b[0;31mSyntaxError\u001b[0m\u001b[0;31m:\u001b[0m invalid syntax\n"
     ]
    }
   ],
   "source": [
    "1. What is the correct way to print text in python?\n",
    "\n",
    "A. echo(\"hello\")\n",
    "B. Print(\"Hello\")\n",
    "C. Print(\"Hello\")\n",
    "\n",
    "2. What does Python do if you write Print(\"42\") instead of Print(42)?\n",
    "\n",
    "A. Show an error \n",
    "B. Print 42 as text \n",
    "C. Print 42 as a Number \n",
    "\n",
    "3. Which line will not show any output on the screen? \n",
    "A. print(\"Hello!\")\n",
    "B. Print(\"My name is Saad\")\n",
    "C. \"Hello\""
   ]
  },
  {
   "cell_type": "code",
   "execution_count": null,
   "metadata": {
    "trusted": true
   },
   "outputs": [],
   "source": [
    "Make It Do Math \n",
    "\n",
    "Learn how to use +,-,/, and print() with numbers "
   ]
  },
  {
   "cell_type": "code",
   "execution_count": null,
   "metadata": {
    "execution": {
     "iopub.execute_input": "2025-09-27T17:45:33.094291Z",
     "iopub.status.busy": "2025-09-27T17:45:33.093934Z",
     "iopub.status.idle": "2025-09-27T17:45:33.101023Z",
     "shell.execute_reply": "2025-09-27T17:45:33.099759Z",
     "shell.execute_reply.started": "2025-09-27T17:45:33.094267Z"
    },
    "trusted": true
   },
   "outputs": [
    {
     "name": "stdout",
     "output_type": "stream",
     "text": [
      "11\n",
      "7\n",
      "20\n",
      "5.0\n",
      "17\n",
      "25\n"
     ]
    }
   ],
   "source": [
    "print(4+7)\n",
    "print(10-3)\n",
    "print(4*5)\n",
    "print(20/4)\n",
    "print(2+3*5)\n",
    "print((2+3)*5)"
   ]
  },
  {
   "cell_type": "code",
   "execution_count": null,
   "metadata": {
    "execution": {
     "iopub.execute_input": "2025-09-27T17:49:16.551832Z",
     "iopub.status.busy": "2025-09-27T17:49:16.551471Z",
     "iopub.status.idle": "2025-09-27T17:49:16.557889Z",
     "shell.execute_reply": "2025-09-27T17:49:16.556168Z",
     "shell.execute_reply.started": "2025-09-27T17:49:16.551761Z"
    },
    "trusted": true
   },
   "outputs": [
    {
     "name": "stdout",
     "output_type": "stream",
     "text": [
      "9125\n"
     ]
    }
   ],
   "source": [
    "print(25 * 365)"
   ]
  },
  {
   "cell_type": "markdown",
   "metadata": {},
   "source": [
    "Teach Python to remember \n",
    "\n",
    "think of a variable like a label for a box . we can store something inside and later we can ask python to use it again . "
   ]
  },
  {
   "cell_type": "code",
   "execution_count": null,
   "metadata": {
    "execution": {
     "iopub.execute_input": "2025-09-27T17:51:05.838288Z",
     "iopub.status.busy": "2025-09-27T17:51:05.836574Z",
     "iopub.status.idle": "2025-09-27T17:51:05.843622Z",
     "shell.execute_reply": "2025-09-27T17:51:05.842580Z",
     "shell.execute_reply.started": "2025-09-27T17:51:05.838249Z"
    },
    "trusted": true
   },
   "outputs": [
    {
     "name": "stdout",
     "output_type": "stream",
     "text": [
      "Ava\n"
     ]
    }
   ],
   "source": [
    "name = \"Ava\"\n",
    "print(name)"
   ]
  },
  {
   "cell_type": "code",
   "execution_count": null,
   "metadata": {
    "execution": {
     "iopub.execute_input": "2025-09-27T17:52:56.950948Z",
     "iopub.status.busy": "2025-09-27T17:52:56.950612Z",
     "iopub.status.idle": "2025-09-27T17:52:56.957526Z",
     "shell.execute_reply": "2025-09-27T17:52:56.956348Z",
     "shell.execute_reply.started": "2025-09-27T17:52:56.950925Z"
    },
    "trusted": true
   },
   "outputs": [
    {
     "name": "stdout",
     "output_type": "stream",
     "text": [
      "blue\n",
      "18\n",
      "True\n"
     ]
    }
   ],
   "source": [
    "favorite_color = \"blue\"\n",
    "age = 18 \n",
    "loves_python = True \n",
    "\n",
    "print(favorite_color)\n",
    "print(age)\n",
    "print(loves_python)"
   ]
  },
  {
   "cell_type": "code",
   "execution_count": null,
   "metadata": {
    "execution": {
     "iopub.execute_input": "2025-09-27T17:53:56.996580Z",
     "iopub.status.busy": "2025-09-27T17:53:56.996253Z",
     "iopub.status.idle": "2025-09-27T17:53:57.003550Z",
     "shell.execute_reply": "2025-09-27T17:53:57.001790Z",
     "shell.execute_reply.started": "2025-09-27T17:53:56.996557Z"
    },
    "trusted": true
   },
   "outputs": [
    {
     "name": "stdout",
     "output_type": "stream",
     "text": [
      "25\n"
     ]
    }
   ],
   "source": [
    "birth_year = 2000 \n",
    "current_year = 2025 \n",
    "\n",
    "age = current_year - birth_year \n",
    "print(age)"
   ]
  },
  {
   "cell_type": "code",
   "execution_count": null,
   "metadata": {
    "trusted": true
   },
   "outputs": [],
   "source": [
    "Quiz : Teach Your Code to Remember Things! \n",
    "\n",
    "1. What is a variable in python? \n",
    "\n",
    "A. A built-in python command \n",
    "\n",
    "B. A place that stores values we want to use later \n",
    "\n",
    "C. A function that runs code \n",
    "\n",
    "2. What is a valid way to create a variable in python ? \n",
    "\n",
    "A. my name = \"Ava\"\n",
    "\n",
    "B.  name: AVA\n",
    "\n",
    "C. name = \"Ava\"\n",
    "\n",
    "3. What is not a valid variable name in python? \n",
    "\n",
    "A. favorite_color\n",
    "B. user_age \n",
    "C. 2cool"
   ]
  },
  {
   "cell_type": "code",
   "execution_count": null,
   "metadata": {
    "execution": {
     "iopub.execute_input": "2025-09-27T17:59:59.435643Z",
     "iopub.status.busy": "2025-09-27T17:59:59.435341Z",
     "iopub.status.idle": "2025-09-27T17:59:59.441801Z",
     "shell.execute_reply": "2025-09-27T17:59:59.440367Z",
     "shell.execute_reply.started": "2025-09-27T17:59:59.435623Z"
    },
    "trusted": true
   },
   "outputs": [
    {
     "name": "stdout",
     "output_type": "stream",
     "text": [
      "Hi, my name is Ava and I'm  25 years old.\n"
     ]
    }
   ],
   "source": [
    "name = \"Ava\" \n",
    "age = 25 \n",
    "print(\"Hi, my name is\", name , \"and I'm \", age , \"years old.\" )"
   ]
  },
  {
   "cell_type": "code",
   "execution_count": null,
   "metadata": {
    "execution": {
     "iopub.execute_input": "2025-09-27T18:02:05.451135Z",
     "iopub.status.busy": "2025-09-27T18:02:05.450775Z",
     "iopub.status.idle": "2025-09-27T18:02:05.456835Z",
     "shell.execute_reply": "2025-09-27T18:02:05.455700Z",
     "shell.execute_reply.started": "2025-09-27T18:02:05.451109Z"
    },
    "trusted": true
   },
   "outputs": [
    {
     "name": "stdout",
     "output_type": "stream",
     "text": [
      "Hi , my name is Ava and I am 25 year old\n"
     ]
    }
   ],
   "source": [
    "name = \"Ava\"\n",
    "age = 25 \n",
    "\n",
    "print(\"Hi , my name is\" , name , \"and I am\", age ,\"year old\")"
   ]
  },
  {
   "cell_type": "code",
   "execution_count": null,
   "metadata": {
    "execution": {
     "iopub.execute_input": "2025-09-27T18:04:28.640630Z",
     "iopub.status.busy": "2025-09-27T18:04:28.640303Z",
     "iopub.status.idle": "2025-09-27T18:04:28.646150Z",
     "shell.execute_reply": "2025-09-27T18:04:28.645256Z",
     "shell.execute_reply.started": "2025-09-27T18:04:28.640607Z"
    },
    "trusted": true
   },
   "outputs": [
    {
     "name": "stdout",
     "output_type": "stream",
     "text": [
      "My favorite food is Pizza my favorite color is Green and I want a pet dolphin !\n"
     ]
    }
   ],
   "source": [
    "food = \"Pizza\"\n",
    "color = \"Green\"\n",
    "animal = \"dolphin\"\n",
    "\n",
    "print(\"My favorite food is\" , food , \"my favorite color is\" , color , \"and I want a pet\", animal, \"!\")"
   ]
  },
  {
   "cell_type": "code",
   "execution_count": null,
   "metadata": {
    "trusted": true
   },
   "outputs": [],
   "source": [
    "Mix words and Numbers \n",
    "\n",
    "1. What does the print() function do when you seprate items with commans ? \n",
    "\n",
    "A. Combines them with no spaces \n",
    "B. Adds commas in between them \n",
    "C. Adds spaces between them automatically  \n",
    "\n",
    "2. What happens if you use print(\"my age is\" age), where age= 18 ? \n",
    "\n",
    "A. python crashes \n",
    "B . it prints my age is 10. \n",
    "C . it prints My age isage10\n",
    "\n",
    "3.What is the output for the following code ? \n",
    "\n",
    "   name = \"Leo\"\n",
    "   age = 9 \n",
    "   print(\"Name:\", name , \"Age\", age)\n",
    "\n",
    "A. Name:LeoAge:9 \n",
    "B. Name:\"Leo\" age: \"9\"\n",
    "c. Name: Leo Age: 9 \n"
   ]
  },
  {
   "cell_type": "code",
   "execution_count": null,
   "metadata": {
    "execution": {
     "iopub.execute_input": "2025-09-27T18:49:45.570266Z",
     "iopub.status.busy": "2025-09-27T18:49:45.569470Z",
     "iopub.status.idle": "2025-09-27T18:49:45.577450Z",
     "shell.execute_reply": "2025-09-27T18:49:45.576079Z",
     "shell.execute_reply.started": "2025-09-27T18:49:45.570231Z"
    },
    "trusted": true
   },
   "outputs": [
    {
     "name": "stdout",
     "output_type": "stream",
     "text": [
      "Meet Luna the 3 -year-old cat .\n"
     ]
    }
   ],
   "source": [
    "name = \"Luna\"\n",
    "species = \"cat\"\n",
    "age = 3 \n",
    "\n",
    "print(\"Meet\" , name, \"the\" , age , \"-year-old\" , species , \".\")"
   ]
  },
  {
   "cell_type": "code",
   "execution_count": null,
   "metadata": {
    "execution": {
     "iopub.execute_input": "2025-09-27T18:50:52.473919Z",
     "iopub.status.busy": "2025-09-27T18:50:52.473564Z",
     "iopub.status.idle": "2025-09-27T18:50:58.368376Z",
     "shell.execute_reply": "2025-09-27T18:50:58.367332Z",
     "shell.execute_reply.started": "2025-09-27T18:50:52.473896Z"
    },
    "trusted": true
   },
   "outputs": [
    {
     "name": "stdout",
     "output_type": "stream",
     "text": [
      "What is your name? sangam\n"
     ]
    },
    {
     "name": "stdout",
     "output_type": "stream",
     "text": [
      "Hello sangam\n"
     ]
    }
   ],
   "source": [
    "name = input(\"What is your name?\")\n",
    "print(\"Hello\",name)"
   ]
  },
  {
   "cell_type": "code",
   "execution_count": null,
   "metadata": {
    "execution": {
     "iopub.execute_input": "2025-09-27T18:52:50.561817Z",
     "iopub.status.busy": "2025-09-27T18:52:50.561483Z",
     "iopub.status.idle": "2025-09-27T18:52:54.354966Z",
     "shell.execute_reply": "2025-09-27T18:52:54.354156Z",
     "shell.execute_reply.started": "2025-09-27T18:52:50.561791Z"
    },
    "trusted": true
   },
   "outputs": [
    {
     "name": "stdout",
     "output_type": "stream",
     "text": [
      "How old are you? 29\n"
     ]
    },
    {
     "name": "stdout",
     "output_type": "stream",
     "text": [
      "You are 29 years old.\n",
      "<class 'str'>\n"
     ]
    }
   ],
   "source": [
    "age = input(\"How old are you?\")\n",
    "print(\"You are\" , age , \"years old.\")\n",
    "\n",
    "print(type(age))"
   ]
  },
  {
   "cell_type": "code",
   "execution_count": null,
   "metadata": {
    "execution": {
     "iopub.execute_input": "2025-09-27T18:54:33.055492Z",
     "iopub.status.busy": "2025-09-27T18:54:33.055181Z",
     "iopub.status.idle": "2025-09-27T18:54:36.477955Z",
     "shell.execute_reply": "2025-09-27T18:54:36.476945Z",
     "shell.execute_reply.started": "2025-09-27T18:54:33.055472Z"
    },
    "trusted": true
   },
   "outputs": [
    {
     "name": "stdout",
     "output_type": "stream",
     "text": [
      "How old are you? 29\n"
     ]
    },
    {
     "name": "stdout",
     "output_type": "stream",
     "text": [
      "In 5 years , you'll be 34\n"
     ]
    }
   ],
   "source": [
    "age = input(\"How old are you?\")\n",
    "future_age = int(age) + 5 \n",
    "print(\"In 5 years , you'll be\", future_age)"
   ]
  },
  {
   "cell_type": "code",
   "execution_count": null,
   "metadata": {
    "execution": {
     "iopub.execute_input": "2025-09-27T19:04:14.709582Z",
     "iopub.status.busy": "2025-09-27T19:04:14.709277Z",
     "iopub.status.idle": "2025-09-27T19:04:20.828121Z",
     "shell.execute_reply": "2025-09-27T19:04:20.826737Z",
     "shell.execute_reply.started": "2025-09-27T19:04:14.709561Z"
    },
    "trusted": true
   },
   "outputs": [
    {
     "name": "stdout",
     "output_type": "stream",
     "text": [
      "Enter your Name, Favorite Food, and Pet (separated by spaces):  sangam dosa dog\n"
     ]
    },
    {
     "name": "stdout",
     "output_type": "stream",
     "text": [
      "Hi sangam ! Enjoy your dosa with your future pet dog !\n"
     ]
    }
   ],
   "source": [
    "name, fav_food, pet = input(\"Enter your Name, Favorite Food, and Pet (separated by spaces): \").split()\n",
    "print(\"Hi\", name, \"! Enjoy your\", fav_food, \"with your future pet\", pet, \"!\")"
   ]
  },
  {
   "cell_type": "code",
   "execution_count": null,
   "metadata": {
    "trusted": true
   },
   "outputs": [],
   "source": [
    "1. What does the input() function do in python? \n",
    "\n",
    "A. Display output on the screen \n",
    "B. Runs the program faster \n",
    "C. Asks the user to type something and stores it as text \n",
    "\n",
    "2. What type of value does input() always return? \n",
    "\n",
    "A. Integer \n",
    "B. String \n",
    "C. Boolean "
   ]
  },
  {
   "cell_type": "code",
   "execution_count": null,
   "metadata": {
    "trusted": true
   },
   "outputs": [],
   "source": [
    "birth_year = int(input(\"Year!\"))\n",
    "age = 2025 - birth_year\n",
    "print(age)"
   ]
  },
  {
   "cell_type": "code",
   "execution_count": null,
   "metadata": {
    "execution": {
     "iopub.execute_input": "2025-09-27T19:13:23.050133Z",
     "iopub.status.busy": "2025-09-27T19:13:23.049747Z",
     "iopub.status.idle": "2025-09-27T19:13:23.056246Z",
     "shell.execute_reply": "2025-09-27T19:13:23.054898Z",
     "shell.execute_reply.started": "2025-09-27T19:13:23.050107Z"
    },
    "trusted": true
   },
   "outputs": [
    {
     "name": "stdout",
     "output_type": "stream",
     "text": [
      "You're an adult!\n"
     ]
    }
   ],
   "source": [
    "age = 18 \n",
    "\n",
    "if age >= 18:\n",
    "    print(\"You're an adult!\")"
   ]
  },
  {
   "cell_type": "code",
   "execution_count": null,
   "metadata": {
    "execution": {
     "iopub.execute_input": "2025-09-27T19:14:47.734141Z",
     "iopub.status.busy": "2025-09-27T19:14:47.733685Z",
     "iopub.status.idle": "2025-09-27T19:14:47.740131Z",
     "shell.execute_reply": "2025-09-27T19:14:47.738894Z",
     "shell.execute_reply.started": "2025-09-27T19:14:47.734112Z"
    },
    "trusted": true
   },
   "outputs": [
    {
     "name": "stdout",
     "output_type": "stream",
     "text": [
      "You're a minor!\n"
     ]
    }
   ],
   "source": [
    "age = 16 \n",
    "if age >= 18:\n",
    "    print(\"you're an adult!\")\n",
    "else:\n",
    "   print(\"You're a minor!\")"
   ]
  },
  {
   "cell_type": "code",
   "execution_count": null,
   "metadata": {
    "execution": {
     "iopub.execute_input": "2025-09-27T19:16:49.408876Z",
     "iopub.status.busy": "2025-09-27T19:16:49.407818Z",
     "iopub.status.idle": "2025-09-27T19:16:49.414718Z",
     "shell.execute_reply": "2025-09-27T19:16:49.413124Z",
     "shell.execute_reply.started": "2025-09-27T19:16:49.408837Z"
    },
    "trusted": true
   },
   "outputs": [
    {
     "name": "stdout",
     "output_type": "stream",
     "text": [
      "Good afternoon!\n"
     ]
    }
   ],
   "source": [
    "hour = 14 \n",
    "\n",
    "if hour < 12:\n",
    "    print(\"Good Morning\")\n",
    "elif hour < 18:\n",
    "    print(\"Good afternoon!\")\n",
    "else:\n",
    "   print(\"Good evening!\")\n",
    "    "
   ]
  },
  {
   "cell_type": "code",
   "execution_count": null,
   "metadata": {
    "execution": {
     "iopub.execute_input": "2025-09-27T19:17:38.847087Z",
     "iopub.status.busy": "2025-09-27T19:17:38.846773Z",
     "iopub.status.idle": "2025-09-27T19:17:38.852548Z",
     "shell.execute_reply": "2025-09-27T19:17:38.851477Z",
     "shell.execute_reply.started": "2025-09-27T19:17:38.847066Z"
    },
    "trusted": true
   },
   "outputs": [
    {
     "name": "stdout",
     "output_type": "stream",
     "text": [
      "its hot today!\n"
     ]
    }
   ],
   "source": [
    "temperature = 30 \n",
    "if temperature > 25: \n",
    "    print(\"its hot today!\")"
   ]
  },
  {
   "cell_type": "code",
   "execution_count": null,
   "metadata": {
    "trusted": true
   },
   "outputs": [],
   "source": [
    "age = 18\n",
    "if age > 13:\n",
    "    print(\"watch movies:\")\n",
    "else: \n",
    "    print(\"they are too young\")"
   ]
  },
  {
   "cell_type": "code",
   "execution_count": null,
   "metadata": {
    "execution": {
     "iopub.execute_input": "2025-09-27T19:25:26.052205Z",
     "iopub.status.busy": "2025-09-27T19:25:26.051493Z",
     "iopub.status.idle": "2025-09-27T19:25:34.347974Z",
     "shell.execute_reply": "2025-09-27T19:25:34.347095Z",
     "shell.execute_reply.started": "2025-09-27T19:25:26.052175Z"
    },
    "trusted": true
   },
   "outputs": [
    {
     "name": "stdout",
     "output_type": "stream",
     "text": [
      "Enter a number:  12\n"
     ]
    },
    {
     "name": "stdout",
     "output_type": "stream",
     "text": [
      "half if your number is 6.0\n"
     ]
    }
   ],
   "source": [
    "number = int(input(\"Enter a number: \"))\n",
    "print(\"half if your number is\" , number /2 )"
   ]
  },
  {
   "cell_type": "code",
   "execution_count": null,
   "metadata": {
    "execution": {
     "iopub.execute_input": "2025-09-27T19:28:13.706526Z",
     "iopub.status.busy": "2025-09-27T19:28:13.706223Z",
     "iopub.status.idle": "2025-09-27T19:28:25.372079Z",
     "shell.execute_reply": "2025-09-27T19:28:25.370797Z",
     "shell.execute_reply.started": "2025-09-27T19:28:13.706501Z"
    },
    "trusted": true
   },
   "outputs": [
    {
     "name": "stdout",
     "output_type": "stream",
     "text": [
      "Enter a number: 5\n"
     ]
    },
    {
     "name": "stdout",
     "output_type": "stream",
     "text": [
      "half of your number is 2.5\n"
     ]
    }
   ],
   "source": [
    "try: \n",
    "  number = int(input(\"Enter a number:\"))\n",
    "  print(\"half of your number is\", number/2)\n",
    "except:\n",
    "    print(\"Oops! That wasn't a valid number\")"
   ]
  },
  {
   "cell_type": "code",
   "execution_count": null,
   "metadata": {
    "execution": {
     "iopub.execute_input": "2025-09-27T19:30:45.658779Z",
     "iopub.status.busy": "2025-09-27T19:30:45.658338Z",
     "iopub.status.idle": "2025-09-27T19:30:48.358426Z",
     "shell.execute_reply": "2025-09-27T19:30:48.357341Z",
     "shell.execute_reply.started": "2025-09-27T19:30:45.658748Z"
    },
    "trusted": true
   },
   "outputs": [
    {
     "name": "stdout",
     "output_type": "stream",
     "text": [
      "Type a number B\n"
     ]
    },
    {
     "name": "stdout",
     "output_type": "stream",
     "text": [
      "That wasn't a number!\n"
     ]
    }
   ],
   "source": [
    "try: \n",
    "  value = int(input(\"Type a number\"))\n",
    "except ValueError:\n",
    "    print(\"That wasn't a number!\")"
   ]
  },
  {
   "cell_type": "code",
   "execution_count": null,
   "metadata": {
    "trusted": true
   },
   "outputs": [],
   "source": [
    "1. What does the try block do in python ? \n",
    "\n",
    "A. Stops the program \n",
    "B. Attempts to run code that might cause an error \n",
    "C. Fixes bugs \n",
    "\n",
    "2. What happens when an error inside a try block ? \n",
    "\n",
    "A. The program ignores it \n",
    "B. Python crashes \n",
    "C. Python jumps to except block \n",
    "\n",
    "3. Which Keyword is used to handle exceptions in python? \n",
    "\n",
    "A. handle \n",
    "B. fix \n",
    "c. except "
   ]
  },
  {
   "cell_type": "code",
   "execution_count": null,
   "metadata": {
    "trusted": true
   },
   "outputs": [],
   "source": [
    "try: \n",
    "  value = int(input(\"Type of number\"))\n",
    "  print(\"half of your number is\", value/0 )\n",
    "except: \n",
    "    print(\"Oops! Thats not possible \")"
   ]
  },
  {
   "cell_type": "code",
   "execution_count": null,
   "metadata": {
    "execution": {
     "iopub.execute_input": "2025-09-27T19:38:53.694377Z",
     "iopub.status.busy": "2025-09-27T19:38:53.694022Z",
     "iopub.status.idle": "2025-09-27T19:38:53.699802Z",
     "shell.execute_reply": "2025-09-27T19:38:53.698514Z",
     "shell.execute_reply.started": "2025-09-27T19:38:53.694355Z"
    },
    "trusted": true
   },
   "outputs": [
    {
     "name": "stdout",
     "output_type": "stream",
     "text": [
      "hello!\n",
      "hello!\n",
      "hello!\n",
      "hello!\n",
      "hello!\n"
     ]
    }
   ],
   "source": [
    "for i in range(5):\n",
    "   print(\"hello!\")"
   ]
  },
  {
   "cell_type": "code",
   "execution_count": null,
   "metadata": {
    "execution": {
     "iopub.execute_input": "2025-09-27T19:39:40.088626Z",
     "iopub.status.busy": "2025-09-27T19:39:40.088165Z",
     "iopub.status.idle": "2025-09-27T19:39:40.096127Z",
     "shell.execute_reply": "2025-09-27T19:39:40.094376Z",
     "shell.execute_reply.started": "2025-09-27T19:39:40.088593Z"
    },
    "trusted": true
   },
   "outputs": [
    {
     "name": "stdout",
     "output_type": "stream",
     "text": [
      "This is round 0\n",
      "This is round 1\n",
      "This is round 2\n",
      "This is round 3\n",
      "This is round 4\n"
     ]
    }
   ],
   "source": [
    "for i in range(5):\n",
    "   print(\"This is round\", i )"
   ]
  },
  {
   "cell_type": "code",
   "execution_count": null,
   "metadata": {
    "execution": {
     "iopub.execute_input": "2025-09-27T19:40:47.032665Z",
     "iopub.status.busy": "2025-09-27T19:40:47.032349Z",
     "iopub.status.idle": "2025-09-27T19:40:47.039948Z",
     "shell.execute_reply": "2025-09-27T19:40:47.038299Z",
     "shell.execute_reply.started": "2025-09-27T19:40:47.032635Z"
    },
    "trusted": true
   },
   "outputs": [
    {
     "name": "stdout",
     "output_type": "stream",
     "text": [
      "Counting: 0\n",
      "Counting: 1\n",
      "Counting: 2\n"
     ]
    }
   ],
   "source": [
    "count = 0 \n",
    "while count < 3: \n",
    "    print(\"Counting:\" , count)\n",
    "    count = count + 1 "
   ]
  },
  {
   "cell_type": "code",
   "execution_count": null,
   "metadata": {
    "trusted": true
   },
   "outputs": [],
   "source": [
    "name = input(\"name:\")\n",
    "count = 0 \n",
    "while count < 2: \n",
    "        print(name)"
   ]
  },
  {
   "cell_type": "code",
   "execution_count": null,
   "metadata": {
    "execution": {
     "iopub.execute_input": "2025-09-27T20:17:39.261768Z",
     "iopub.status.busy": "2025-09-27T20:17:39.261432Z",
     "iopub.status.idle": "2025-09-27T20:17:47.550023Z",
     "shell.execute_reply": "2025-09-27T20:17:47.548907Z",
     "shell.execute_reply.started": "2025-09-27T20:17:39.261745Z"
    },
    "trusted": true
   },
   "outputs": [
    {
     "name": "stdout",
     "output_type": "stream",
     "text": [
      "Type 'exit' to quit:  exit\n"
     ]
    }
   ],
   "source": [
    "while True:\n",
    "    answer = input(\"Type 'exit' to quit: \")\n",
    "    if answer == \"exit\":\n",
    "        break\n",
    "    print(\"You typed:\", answer)"
   ]
  },
  {
   "cell_type": "code",
   "execution_count": null,
   "metadata": {
    "trusted": true
   },
   "outputs": [
    {
     "name": "stdout",
     "output_type": "stream",
     "text": [
      "apple\n",
      "cherry\n"
     ]
    }
   ],
   "source": [
    "fruits = [\"apple\", \"banana\", \"cherry\"]\n",
    "print(fruits[0])\n",
    "print(fruits[2])"
   ]
  },
  {
   "cell_type": "code",
   "execution_count": null,
   "metadata": {},
   "outputs": [
    {
     "name": "stdout",
     "output_type": "stream",
     "text": [
      "apple\n",
      "banana\n",
      "cherry\n"
     ]
    }
   ],
   "source": [
    "fruits = [\"apple\", \"banana\", \"cherry\"]\n",
    "for fruit in fruits:\n",
    "    print(fruit)"
   ]
  },
  {
   "cell_type": "code",
   "execution_count": null,
   "metadata": {},
   "outputs": [
    {
     "name": "stdout",
     "output_type": "stream",
     "text": [
      "apple\n",
      "banana\n",
      "cherry\n"
     ]
    }
   ],
   "source": [
    "fruits = [\"apple\", \"banana\", \"cherry\"]\n",
    "for i in range(len(fruits)):\n",
    "    print(fruits[i])"
   ]
  },
  {
   "cell_type": "markdown",
   "metadata": {},
   "source": [
    "1. What is list used for in python? \n",
    "A. To store a single number \n",
    "B. to create functions \n",
    "C. to store multiple values in one variable \n",
    "\n",
    "2. what is the index of the first item in a list? \n",
    "\n",
    "A. 1 \n",
    "B. 0 \n",
    "c. -1 \n",
    "\n",
    "3. What does this code prints?\n",
    "\n",
    "fruits = [\"apple\", \"banana\", \"cherry\"]\n",
    "print(fruits[0])\n",
    "\n",
    "a. apple \n",
    "b. banna \n",
    "c. cherry"
   ]
  },
  {
   "cell_type": "code",
   "execution_count": null,
   "metadata": {},
   "outputs": [],
   "source": [
    "fav_things = [\"isolation\",\"code\", \"music\"]\n",
    "print(fav_things[0])\n",
    "print(fav_things[1])\n",
    "print(fav_things[2])\n"
   ]
  },
  {
   "cell_type": "code",
   "execution_count": null,
   "metadata": {},
   "outputs": [
    {
     "name": "stdout",
     "output_type": "stream",
     "text": [
      "Hello!\n"
     ]
    }
   ],
   "source": [
    "def greet():        # Define a new function\n",
    "    print(\"Hello!\") # What it does\n",
    "\n",
    "greet()  "
   ]
  },
  {
   "cell_type": "code",
   "execution_count": null,
   "metadata": {},
   "outputs": [
    {
     "name": "stdout",
     "output_type": "stream",
     "text": [
      "Hello Ava\n",
      "Hello Leo\n"
     ]
    }
   ],
   "source": [
    "def greet(name):\n",
    "    print(\"Hello\", name)\n",
    "\n",
    "greet(\"Ava\")\n",
    "greet(\"Leo\")"
   ]
  },
  {
   "cell_type": "code",
   "execution_count": null,
   "metadata": {},
   "outputs": [
    {
     "name": "stdout",
     "output_type": "stream",
     "text": [
      "7\n"
     ]
    }
   ],
   "source": [
    "def add(a, b):\n",
    "    return a + b\n",
    "\n",
    "result = add(3, 4)\n",
    "print(result)"
   ]
  },
  {
   "cell_type": "code",
   "execution_count": 17,
   "metadata": {},
   "outputs": [],
   "source": [
    "def favorite_color(color):\n",
    "    print(\"My favorite color is\", color)\n",
    "\n",
    "    favorite_color(\"blue\")\n",
    "    favorite_color(\"red\")"
   ]
  },
  {
   "cell_type": "code",
   "execution_count": null,
   "metadata": {},
   "outputs": [],
   "source": [
    "What does def keyword do in python? \n",
    "\n",
    "A. Deletes a variable \n",
    "B. Defines a new function \n",
    "C. Displays output on the screen \n",
    "\n",
    "What does this code print ? \n",
    "\n",
    "  def great():\n",
    "    print(\"Hello!\")\n",
    "  great()\n",
    "\n",
    "A. Hello! \n",
    "B. great \n",
    "C. Nothing \n",
    "\n",
    "What is the output of this code ? \n",
    "\n",
    "  def add(a, b):\n",
    "    return a + b \n",
    "  print(add(3, 4))\n",
    "\n",
    "A. 34 \n",
    "B. 7 \n",
    "C. 3 + 4 \n",
    "\n",
    "What is the purpose of the return statement in a function? \n",
    "\n",
    "A. To display output on the screen "
   ]
  },
  {
   "cell_type": "markdown",
   "metadata": {},
   "source": []
  },
  {
   "cell_type": "code",
   "execution_count": null,
   "metadata": {},
   "outputs": [],
   "source": [
    "def create_sentence(noun, verb, adjective):\n",
    "    result = f\"The {adjective} {noun} decided to {verb} all day.\"\n",
    "    return result\n",
    "\n",
    "# Example usage\n",
    "sentence = create_sentence(\"cat\", \"dance\", \"silly\")\n",
    "print(sentence)"
   ]
  },
  {
   "cell_type": "code",
   "execution_count": null,
   "metadata": {},
   "outputs": [
    {
     "name": "stdout",
     "output_type": "stream",
     "text": [
      "you stand at a fork in the road \n"
     ]
    }
   ],
   "source": [
    "def adventure():\n",
    "    print(\"you stand at a fork in the road \")\n",
    "    choice = input (\"Do you go left or right?\")\n",
    "    if choice == \"left\":\n",
    "        print(\"You fall into a pit!\")\n",
    "    elif choice == \"right\":\n",
    "        print(\"You find a treasure!\")\n",
    "    else:\n",
    "        print(\"You stand there forever.\")\n",
    "\n",
    "adventure()        "
   ]
  },
  {
   "cell_type": "code",
   "execution_count": null,
   "metadata": {},
   "outputs": [],
   "source": [
    "1. What does the input() function do in your adventure gamme? \n",
    "\n",
    "A. Ends the game \n",
    "B. Prints the user's name \n",
    "C. Asks the player for a decision \n",
    "\n",
    "2. Which Python keyword is used to define a function? \n",
    "A. Function \n",
    "B, def \n",
    "c. define \n",
    "\n",
    "3. What structure is used to make different story oaths based on choices ? \n",
    "\n",
    "A. if/elif/else statements \n",
    "B. return statements \n",
    "c. for loops "
   ]
  },
  {
   "cell_type": "markdown",
   "metadata": {},
   "source": [
    "person = {\n",
    "    \"name\": \"Ava\",\n",
    "    \"age\": 25,\n",
    "    \"city\": \"Seattle\"\n",
    "}\n",
    "\n",
    "print(person[\"name\"])"
   ]
  },
  {
   "cell_type": "code",
   "execution_count": null,
   "metadata": {},
   "outputs": [],
   "source": [
    "person = {\n",
    "    \"name\": \"Ava\",\n",
    "    \"age\": 25,\n",
    "    \"city\": \"Seattle\"\n",
    "}\n",
    "\n",
    "person[\"job\"] = \"Engineer\"  # Added new key-value pair\n",
    "person[\"age\"] = 26          # Updated existing value\n",
    "\n",
    "\n",
    "print(person)"
   ]
  },
  {
   "cell_type": "code",
   "execution_count": null,
   "metadata": {},
   "outputs": [],
   "source": [
    "person = {\n",
    "    \"name\": \"Ava\",\n",
    "    \"age\": 26,\n",
    "    \"city\": \"Seattle\",\n",
    "    \"job\": \"Engineer\",\n",
    "}\n",
    "\n",
    "for key, value in person.items():\n",
    "    print(key, \":\", value)"
   ]
  },
  {
   "cell_type": "code",
   "execution_count": 1,
   "metadata": {},
   "outputs": [
    {
     "name": "stdout",
     "output_type": "stream",
     "text": [
      "Ava is 25 years old.\n",
      "Leo is 18 years old.\n",
      "Luna is 3 years old.\n"
     ]
    }
   ],
   "source": [
    "people = [\n",
    "    {\"name\" : \"Ava\", \"age\" : 25},\n",
    "    {\"name\" : \"Leo\", \"age\" : 18},\n",
    "    {\"name\" : \"Luna\", \"age\" : 3}\n",
    "]\n",
    "\n",
    "for person in people:\n",
    "    print(person[\"name\"], \"is\", person[\"age\"], \"years old.\")"
   ]
  },
  {
   "cell_type": "code",
   "execution_count": 2,
   "metadata": {},
   "outputs": [
    {
     "name": "stdout",
     "output_type": "stream",
     "text": [
      "1984 by George Orwell\n",
      "To Kill a Mockingbird by Harper Lee\n",
      "The Great Gatsby by F. Scott Fitzgerald\n"
     ]
    }
   ],
   "source": [
    "books = [\n",
    "    {\"title\": \"1984\", \"author\": \"George Orwell\"},\n",
    "    {\"title\": \"To Kill a Mockingbird\", \"author\": \"Harper Lee\"},\n",
    "    {\"title\": \"The Great Gatsby\", \"author\": \"F. Scott Fitzgerald\"}\n",
    "]\n",
    "\n",
    "for book in books:\n",
    "    print(book[\"title\"], \"by\", book[\"author\"])"
   ]
  },
  {
   "cell_type": "markdown",
   "metadata": {},
   "source": [
    "1. What does each dictionary represent in a list of dictionaries?\n",
    "\n",
    "A. A column \n",
    "B. A row/item \n",
    "c. A value\n",
    "\n",
    "2. How do you access the age of the first person in a list of dictionaries name people?\n",
    "\n",
    "A. people[0][\"age\"]\n",
    "B. people[\"age\"][0]\n",
    "c. people.age[0]\n",
    "\n",
    "3. Which data structure is best for modeling a table with rows and labeled columns? \n",
    "\n",
    "A. list of lists \n",
    "B. Dictionary of list \n",
    "c. List of dictionaries "
   ]
  },
  {
   "cell_type": "code",
   "execution_count": 3,
   "metadata": {},
   "outputs": [
    {
     "name": "stdout",
     "output_type": "stream",
     "text": [
      "Ava is 25 years old.\n",
      "Leo is 18 years old.\n",
      "Luna is 3 years old.\n"
     ]
    }
   ],
   "source": [
    "people = [\n",
    "    {\"name\": \"Ava\", \"age\": 25},\n",
    "    {\"name\": \"Leo\", \"age\": 18},\n",
    "    {\"name\": \"Luna\", \"age\": 3}\n",
    "]\n",
    "\n",
    "for person in people:\n",
    "    print(person[\"name\"], \"is\", person[\"age\"], \"years old.\")"
   ]
  },
  {
   "cell_type": "code",
   "execution_count": 4,
   "metadata": {},
   "outputs": [],
   "source": [
    "with open(\"message.txt\", \"w\") as file:\n",
    "    file.write(\"Hello, World!\")"
   ]
  },
  {
   "cell_type": "code",
   "execution_count": 5,
   "metadata": {},
   "outputs": [
    {
     "name": "stdout",
     "output_type": "stream",
     "text": [
      "Hello, World!\n"
     ]
    }
   ],
   "source": [
    "with open(\"message.txt\", \"r\") as file:\n",
    "    content = file.read()\n",
    "    print(content)"
   ]
  },
  {
   "cell_type": "code",
   "execution_count": 7,
   "metadata": {},
   "outputs": [
    {
     "name": "stdout",
     "output_type": "stream",
     "text": [
      "Hello, World!\n",
      "Goodbye, World!\n"
     ]
    }
   ],
   "source": [
    "with open(\"message.txt\", \"w\") as file:\n",
    "    file.write(\"Hello, World!\")\n",
    "\n",
    "with open(\"message.txt\", \"a\") as file:\n",
    "    file.write(\"\\nGoodbye, World!\")\n",
    "\n",
    "with open(\"message.txt\", \"r\") as file:\n",
    "    content = file.read()\n",
    "    print(content)\n",
    "        "
   ]
  },
  {
   "cell_type": "code",
   "execution_count": null,
   "metadata": {
    "notebookRunGroups": {
     "groupValue": "2"
    }
   },
   "outputs": [],
   "source": [
    "entry = input(\"Write a diary entry: \")\n",
    "with open(\"diary.txt\", \"a\") as file:\n",
    "    file.write(entry + \"\\n\")"
   ]
  },
  {
   "cell_type": "markdown",
   "metadata": {},
   "source": [
    "1. What happens when you open a file with mode \"w\" in python?\n",
    "\n",
    "A. Reads the file without changing it \n",
    "B. Opens the file for writing and overwrites existing content \n",
    "C. Appends new content to the file \n",
    "\n",
    "2. Which mode should you use to add new content to the end of a file without deleting the old content? \n",
    "\n",
    "A. \"r\"\n",
    "B. \"w\"\n",
    "C. \"a\"\n",
    "\n",
    "3. Which code snippet correctly writes the string \"Hello World\" to a file named \"output.txt\"? \n",
    "\n",
    "A. open(\"message.txt\",\"r\").write(\"Hello World\") \n",
    "B. open(\"message.txt\",\"w\").write(\"Hello World\") \n",
    "C. open(\"message.txt\",\"a\").write(\"Hello World\")\n",
    "\n"
   ]
  },
  {
   "cell_type": "code",
   "execution_count": null,
   "metadata": {},
   "outputs": [
    {
     "name": "stdout",
     "output_type": "stream",
     "text": [
      "Hi! i'm chatpy. type bye to end the chat\n"
     ]
    }
   ],
   "source": [
    "def chatbot():\n",
    "    print(\"Hi! i'm chatpy. type bye to end the chat\")\n",
    "\n",
    "    while True:\n",
    "        user_input = input(\"You: \")\n",
    "        if user_input.lower() == \"bye\":\n",
    "            print(\"Chatpy: Goodbye!\")\n",
    "            break\n",
    "        else:\n",
    "            print(\"Chatpy: I can't understand you.\")\n",
    "\n",
    "chatbot()"
   ]
  },
  {
   "cell_type": "code",
   "execution_count": null,
   "metadata": {},
   "outputs": [],
   "source": [
    "def chatbot():\n",
    "    print(\"Hi! I'm Chatpy. Type bye to end the chat.\")\n",
    "\n",
    "    while True:\n",
    "        user_input = input(\"You: \")\n",
    "        if user_input.lower() == \"bye\":\n",
    "            print(\"Chatpy: Goodbye!\")\n",
    "            break\n",
    "        else:\n",
    "            print(\"Chatpy: I can't understand you.\")"
   ]
  }
 ],
 "metadata": {
  "kaggle": {
   "accelerator": "none",
   "dataSources": [],
   "dockerImageVersionId": 31089,
   "isGpuEnabled": false,
   "isInternetEnabled": false,
   "language": "python",
   "sourceType": "notebook"
  },
  "kernelspec": {
   "display_name": "anaconda-2025.06-py3.11",
   "language": "python",
   "name": "conda-env-anaconda-2025.06-py3.11"
  },
  "language_info": {
   "codemirror_mode": {
    "name": "ipython",
    "version": 3
   },
   "file_extension": ".py",
   "mimetype": "text/x-python",
   "name": "python",
   "nbconvert_exporter": "python",
   "pygments_lexer": "ipython3",
   "version": "3.11.13"
  }
 },
 "nbformat": 4,
 "nbformat_minor": 4
}
